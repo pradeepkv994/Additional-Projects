{
 "cells": [
  {
   "cell_type": "code",
   "execution_count": 169,
   "id": "c1619d1e",
   "metadata": {},
   "outputs": [],
   "source": [
    "import pandas as pd\n",
    "import numpy as np\n",
    "import matplotlib.pyplot as plt\n",
    "import seaborn as sns\n",
    "from sklearn.model_selection import train_test_split\n",
    "%matplotlib inline"
   ]
  },
  {
   "cell_type": "code",
   "execution_count": 4,
   "id": "f1490dd2",
   "metadata": {},
   "outputs": [],
   "source": [
    "df=pd.read_csv('C:/Users/prade/Desktop/imarticus files/DATASETS/MACHINE LEARNING/gld_price_data.csv')"
   ]
  },
  {
   "cell_type": "code",
   "execution_count": 5,
   "id": "f826475e",
   "metadata": {},
   "outputs": [
    {
     "data": {
      "text/html": [
       "<div>\n",
       "<style scoped>\n",
       "    .dataframe tbody tr th:only-of-type {\n",
       "        vertical-align: middle;\n",
       "    }\n",
       "\n",
       "    .dataframe tbody tr th {\n",
       "        vertical-align: top;\n",
       "    }\n",
       "\n",
       "    .dataframe thead th {\n",
       "        text-align: right;\n",
       "    }\n",
       "</style>\n",
       "<table border=\"1\" class=\"dataframe\">\n",
       "  <thead>\n",
       "    <tr style=\"text-align: right;\">\n",
       "      <th></th>\n",
       "      <th>Date</th>\n",
       "      <th>SPX</th>\n",
       "      <th>GLD</th>\n",
       "      <th>USO</th>\n",
       "      <th>SLV</th>\n",
       "      <th>EUR/USD</th>\n",
       "    </tr>\n",
       "  </thead>\n",
       "  <tbody>\n",
       "    <tr>\n",
       "      <th>0</th>\n",
       "      <td>1/2/2008</td>\n",
       "      <td>1447.160034</td>\n",
       "      <td>84.860001</td>\n",
       "      <td>78.470001</td>\n",
       "      <td>15.180</td>\n",
       "      <td>1.471692</td>\n",
       "    </tr>\n",
       "    <tr>\n",
       "      <th>1</th>\n",
       "      <td>1/3/2008</td>\n",
       "      <td>1447.160034</td>\n",
       "      <td>85.570000</td>\n",
       "      <td>78.370003</td>\n",
       "      <td>15.285</td>\n",
       "      <td>1.474491</td>\n",
       "    </tr>\n",
       "    <tr>\n",
       "      <th>2</th>\n",
       "      <td>1/4/2008</td>\n",
       "      <td>1411.630005</td>\n",
       "      <td>85.129997</td>\n",
       "      <td>77.309998</td>\n",
       "      <td>15.167</td>\n",
       "      <td>1.475492</td>\n",
       "    </tr>\n",
       "    <tr>\n",
       "      <th>3</th>\n",
       "      <td>1/7/2008</td>\n",
       "      <td>1416.180054</td>\n",
       "      <td>84.769997</td>\n",
       "      <td>75.500000</td>\n",
       "      <td>15.053</td>\n",
       "      <td>1.468299</td>\n",
       "    </tr>\n",
       "    <tr>\n",
       "      <th>4</th>\n",
       "      <td>1/8/2008</td>\n",
       "      <td>1390.189941</td>\n",
       "      <td>86.779999</td>\n",
       "      <td>76.059998</td>\n",
       "      <td>15.590</td>\n",
       "      <td>1.557099</td>\n",
       "    </tr>\n",
       "  </tbody>\n",
       "</table>\n",
       "</div>"
      ],
      "text/plain": [
       "       Date          SPX        GLD        USO     SLV   EUR/USD\n",
       "0  1/2/2008  1447.160034  84.860001  78.470001  15.180  1.471692\n",
       "1  1/3/2008  1447.160034  85.570000  78.370003  15.285  1.474491\n",
       "2  1/4/2008  1411.630005  85.129997  77.309998  15.167  1.475492\n",
       "3  1/7/2008  1416.180054  84.769997  75.500000  15.053  1.468299\n",
       "4  1/8/2008  1390.189941  86.779999  76.059998  15.590  1.557099"
      ]
     },
     "execution_count": 5,
     "metadata": {},
     "output_type": "execute_result"
    }
   ],
   "source": [
    "df.head()"
   ]
  },
  {
   "cell_type": "code",
   "execution_count": 7,
   "id": "c1e81272",
   "metadata": {},
   "outputs": [
    {
     "name": "stdout",
     "output_type": "stream",
     "text": [
      "<class 'pandas.core.frame.DataFrame'>\n",
      "RangeIndex: 2290 entries, 0 to 2289\n",
      "Data columns (total 6 columns):\n",
      " #   Column   Non-Null Count  Dtype  \n",
      "---  ------   --------------  -----  \n",
      " 0   Date     2290 non-null   object \n",
      " 1   SPX      2290 non-null   float64\n",
      " 2   GLD      2290 non-null   float64\n",
      " 3   USO      2290 non-null   float64\n",
      " 4   SLV      2290 non-null   float64\n",
      " 5   EUR/USD  2290 non-null   float64\n",
      "dtypes: float64(5), object(1)\n",
      "memory usage: 107.5+ KB\n"
     ]
    }
   ],
   "source": [
    "df.info()"
   ]
  },
  {
   "cell_type": "code",
   "execution_count": 8,
   "id": "9b0f48f9",
   "metadata": {},
   "outputs": [
    {
     "data": {
      "text/plain": [
       "(2290, 6)"
      ]
     },
     "execution_count": 8,
     "metadata": {},
     "output_type": "execute_result"
    }
   ],
   "source": [
    "df.shape"
   ]
  },
  {
   "cell_type": "code",
   "execution_count": 6,
   "id": "b6577a51",
   "metadata": {},
   "outputs": [
    {
     "data": {
      "text/plain": [
       "Date       0\n",
       "SPX        0\n",
       "GLD        0\n",
       "USO        0\n",
       "SLV        0\n",
       "EUR/USD    0\n",
       "dtype: int64"
      ]
     },
     "execution_count": 6,
     "metadata": {},
     "output_type": "execute_result"
    }
   ],
   "source": [
    "## handling missing values\n",
    "df.isnull().sum()"
   ]
  },
  {
   "cell_type": "code",
   "execution_count": 10,
   "id": "4939ebf2",
   "metadata": {},
   "outputs": [
    {
     "data": {
      "text/html": [
       "<div>\n",
       "<style scoped>\n",
       "    .dataframe tbody tr th:only-of-type {\n",
       "        vertical-align: middle;\n",
       "    }\n",
       "\n",
       "    .dataframe tbody tr th {\n",
       "        vertical-align: top;\n",
       "    }\n",
       "\n",
       "    .dataframe thead th {\n",
       "        text-align: right;\n",
       "    }\n",
       "</style>\n",
       "<table border=\"1\" class=\"dataframe\">\n",
       "  <thead>\n",
       "    <tr style=\"text-align: right;\">\n",
       "      <th></th>\n",
       "      <th>SPX</th>\n",
       "      <th>GLD</th>\n",
       "      <th>USO</th>\n",
       "      <th>SLV</th>\n",
       "      <th>EUR/USD</th>\n",
       "    </tr>\n",
       "  </thead>\n",
       "  <tbody>\n",
       "    <tr>\n",
       "      <th>count</th>\n",
       "      <td>2290.000000</td>\n",
       "      <td>2290.000000</td>\n",
       "      <td>2290.000000</td>\n",
       "      <td>2290.000000</td>\n",
       "      <td>2290.000000</td>\n",
       "    </tr>\n",
       "    <tr>\n",
       "      <th>mean</th>\n",
       "      <td>1654.315776</td>\n",
       "      <td>122.732875</td>\n",
       "      <td>31.842221</td>\n",
       "      <td>20.084997</td>\n",
       "      <td>1.283653</td>\n",
       "    </tr>\n",
       "    <tr>\n",
       "      <th>std</th>\n",
       "      <td>519.111540</td>\n",
       "      <td>23.283346</td>\n",
       "      <td>19.523517</td>\n",
       "      <td>7.092566</td>\n",
       "      <td>0.131547</td>\n",
       "    </tr>\n",
       "    <tr>\n",
       "      <th>min</th>\n",
       "      <td>676.530029</td>\n",
       "      <td>70.000000</td>\n",
       "      <td>7.960000</td>\n",
       "      <td>8.850000</td>\n",
       "      <td>1.039047</td>\n",
       "    </tr>\n",
       "    <tr>\n",
       "      <th>25%</th>\n",
       "      <td>1239.874969</td>\n",
       "      <td>109.725000</td>\n",
       "      <td>14.380000</td>\n",
       "      <td>15.570000</td>\n",
       "      <td>1.171313</td>\n",
       "    </tr>\n",
       "    <tr>\n",
       "      <th>50%</th>\n",
       "      <td>1551.434998</td>\n",
       "      <td>120.580002</td>\n",
       "      <td>33.869999</td>\n",
       "      <td>17.268500</td>\n",
       "      <td>1.303297</td>\n",
       "    </tr>\n",
       "    <tr>\n",
       "      <th>75%</th>\n",
       "      <td>2073.010070</td>\n",
       "      <td>132.840004</td>\n",
       "      <td>37.827501</td>\n",
       "      <td>22.882500</td>\n",
       "      <td>1.369971</td>\n",
       "    </tr>\n",
       "    <tr>\n",
       "      <th>max</th>\n",
       "      <td>2872.870117</td>\n",
       "      <td>184.589996</td>\n",
       "      <td>117.480003</td>\n",
       "      <td>47.259998</td>\n",
       "      <td>1.598798</td>\n",
       "    </tr>\n",
       "  </tbody>\n",
       "</table>\n",
       "</div>"
      ],
      "text/plain": [
       "               SPX          GLD          USO          SLV      EUR/USD\n",
       "count  2290.000000  2290.000000  2290.000000  2290.000000  2290.000000\n",
       "mean   1654.315776   122.732875    31.842221    20.084997     1.283653\n",
       "std     519.111540    23.283346    19.523517     7.092566     0.131547\n",
       "min     676.530029    70.000000     7.960000     8.850000     1.039047\n",
       "25%    1239.874969   109.725000    14.380000    15.570000     1.171313\n",
       "50%    1551.434998   120.580002    33.869999    17.268500     1.303297\n",
       "75%    2073.010070   132.840004    37.827501    22.882500     1.369971\n",
       "max    2872.870117   184.589996   117.480003    47.259998     1.598798"
      ]
     },
     "execution_count": 10,
     "metadata": {},
     "output_type": "execute_result"
    }
   ],
   "source": [
    "## statistical measures of the data\n",
    "df.describe()"
   ]
  },
  {
   "cell_type": "code",
   "execution_count": 18,
   "id": "fdd3e50c",
   "metadata": {},
   "outputs": [
    {
     "data": {
      "text/plain": [
       "<AxesSubplot:>"
      ]
     },
     "execution_count": 18,
     "metadata": {},
     "output_type": "execute_result"
    },
    {
     "data": {
      "image/png": "[encoded data removed]",
      "text/plain": [
       "<Figure size 432x288 with 2 Axes>"
      ]
     },
     "metadata": {
      "needs_background": "light"
     },
     "output_type": "display_data"
    }
   ],
   "source": [
    "sns.heatmap(df.corr(),annot=True,cmap='Blues',cbar=True,square=True,fmt='.1f')"
   ]
  },
  {
   "cell_type": "code",
   "execution_count": 25,
   "id": "13f6db3e",
   "metadata": {},
   "outputs": [
    {
     "name": "stdout",
     "output_type": "stream",
     "text": [
      "SPX        0.049345\n",
      "GLD        1.000000\n",
      "USO       -0.186360\n",
      "SLV        0.866632\n",
      "EUR/USD   -0.024375\n",
      "Name: GLD, dtype: float64\n"
     ]
    }
   ],
   "source": [
    "print(df.corr()['GLD'])"
   ]
  },
  {
   "cell_type": "code",
   "execution_count": 31,
   "id": "de023668",
   "metadata": {},
   "outputs": [
    {
     "name": "stderr",
     "output_type": "stream",
     "text": [
      "D:\\anaconda\\lib\\site-packages\\seaborn\\distributions.py:2619: FutureWarning: `distplot` is a deprecated function and will be removed in a future version. Please adapt your code to use either `displot` (a figure-level function with similar flexibility) or `histplot` (an axes-level function for histograms).\n",
      "  warnings.warn(msg, FutureWarning)\n"
     ]
    },
    {
     "data": {
      "text/plain": [
       "<AxesSubplot:xlabel='GLD', ylabel='Density'>"
      ]
     },
     "execution_count": 31,
     "metadata": {},
     "output_type": "execute_result"
    },
    {
     "data": {
      "image/png": "[encoded data removed]",
      "text/plain": [
       "<Figure size 432x288 with 1 Axes>"
      ]
     },
     "metadata": {
      "needs_background": "light"
     },
     "output_type": "display_data"
    }
   ],
   "source": [
    "sns.distplot(df['GLD'],color='green')"
   ]
  },
  {
   "cell_type": "code",
   "execution_count": 32,
   "id": "45f170cb",
   "metadata": {},
   "outputs": [
    {
     "name": "stdout",
     "output_type": "stream",
     "text": [
      "<class 'pandas.core.frame.DataFrame'>\n",
      "RangeIndex: 2290 entries, 0 to 2289\n",
      "Data columns (total 6 columns):\n",
      " #   Column   Non-Null Count  Dtype  \n",
      "---  ------   --------------  -----  \n",
      " 0   Date     2290 non-null   object \n",
      " 1   SPX      2290 non-null   float64\n",
      " 2   GLD      2290 non-null   float64\n",
      " 3   USO      2290 non-null   float64\n",
      " 4   SLV      2290 non-null   float64\n",
      " 5   EUR/USD  2290 non-null   float64\n",
      "dtypes: float64(5), object(1)\n",
      "memory usage: 107.5+ KB\n"
     ]
    }
   ],
   "source": [
    "df.info()"
   ]
  },
  {
   "cell_type": "code",
   "execution_count": 178,
   "id": "498f8e43",
   "metadata": {},
   "outputs": [],
   "source": [
    "from sklearn.linear_model import LinearRegression,SGDRegressor\n",
    "from sklearn.model_selection import train_test_split\n",
    "from sklearn.preprocessing import StandardScaler\n",
    "from sklearn.metrics import r2_score,mean_squared_error\n",
    "from sklearn.ensemble import RandomForestRegressor\n",
    "from sklearn import metrics"
   ]
  },
  {
   "cell_type": "code",
   "execution_count": 179,
   "id": "d394fdf2",
   "metadata": {},
   "outputs": [],
   "source": [
    "x=df.drop(['Date','GLD'],axis=1)"
   ]
  },
  {
   "cell_type": "code",
   "execution_count": 180,
   "id": "7664274b",
   "metadata": {},
   "outputs": [],
   "source": [
    "y=df['GLD']"
   ]
  },
  {
   "cell_type": "code",
   "execution_count": 181,
   "id": "63087353",
   "metadata": {},
   "outputs": [
    {
     "name": "stdout",
     "output_type": "stream",
     "text": [
      "              SPX        USO      SLV   EUR/USD\n",
      "0     1447.160034  78.470001  15.1800  1.471692\n",
      "1     1447.160034  78.370003  15.2850  1.474491\n",
      "2     1411.630005  77.309998  15.1670  1.475492\n",
      "3     1416.180054  75.500000  15.0530  1.468299\n",
      "4     1390.189941  76.059998  15.5900  1.557099\n",
      "...           ...        ...      ...       ...\n",
      "2285  2671.919922  14.060000  15.5100  1.186789\n",
      "2286  2697.790039  14.370000  15.5300  1.184722\n",
      "2287  2723.070068  14.410000  15.7400  1.191753\n",
      "2288  2730.129883  14.380000  15.5600  1.193118\n",
      "2289  2725.780029  14.405800  15.4542  1.182033\n",
      "\n",
      "[2290 rows x 4 columns]\n",
      "0        84.860001\n",
      "1        85.570000\n",
      "2        85.129997\n",
      "3        84.769997\n",
      "4        86.779999\n",
      "           ...    \n",
      "2285    124.589996\n",
      "2286    124.330002\n",
      "2287    125.180000\n",
      "2288    124.489998\n",
      "2289    122.543800\n",
      "Name: GLD, Length: 2290, dtype: float64\n"
     ]
    }
   ],
   "source": [
    "print(x)\n",
    "print(y)"
   ]
  },
  {
   "cell_type": "code",
   "execution_count": 182,
   "id": "c0310b5c",
   "metadata": {},
   "outputs": [],
   "source": [
    "x_train,x_test,y_train,y_test=train_test_split(x,y,test_size=0.2,random_state=2)"
   ]
  },
  {
   "cell_type": "markdown",
   "id": "d2b33e5c",
   "metadata": {},
   "source": [
    "## Linear regression"
   ]
  },
  {
   "cell_type": "code",
   "execution_count": 183,
   "id": "06ff341d",
   "metadata": {},
   "outputs": [],
   "source": [
    "lr=LinearRegression()"
   ]
  },
  {
   "cell_type": "code",
   "execution_count": 184,
   "id": "cb2169bb",
   "metadata": {},
   "outputs": [
    {
     "data": {
      "text/plain": [
       "LinearRegression()"
      ]
     },
     "execution_count": 184,
     "metadata": {},
     "output_type": "execute_result"
    }
   ],
   "source": [
    "lr.fit(x_train,y_train)"
   ]
  },
  {
   "cell_type": "code",
   "execution_count": 185,
   "id": "e78c00a6",
   "metadata": {},
   "outputs": [],
   "source": [
    "tr_pred=lg.predict(x_train)\n",
    "ts_pred=lg.predict(x_test)"
   ]
  },
  {
   "cell_type": "code",
   "execution_count": 186,
   "id": "d49fc487",
   "metadata": {},
   "outputs": [
    {
     "name": "stdout",
     "output_type": "stream",
     "text": [
      "training R2_score -204973887771.3521\n"
     ]
    }
   ],
   "source": [
    "print('training R2_score',r2_score(np.exp(y_train),np.exp(tr_pred)))"
   ]
  },
  {
   "cell_type": "code",
   "execution_count": 187,
   "id": "e0c9296e",
   "metadata": {},
   "outputs": [
    {
     "name": "stdout",
     "output_type": "stream",
     "text": [
      "training RMSE score 1.5801739295828663e+84\n"
     ]
    }
   ],
   "source": [
    "print('training RMSE score',np.sqrt(mean_squared_error(np.exp(y_train),np.exp(tr_pred))))"
   ]
  },
  {
   "cell_type": "code",
   "execution_count": 188,
   "id": "6e11c997",
   "metadata": {},
   "outputs": [
    {
     "name": "stdout",
     "output_type": "stream",
     "text": [
      "testing R2_score -0.002473995965486475\n"
     ]
    }
   ],
   "source": [
    "print('testing R2_score',r2_score(np.exp(y_test),ts_pred))"
   ]
  },
  {
   "cell_type": "code",
   "execution_count": 189,
   "id": "0168abe5",
   "metadata": {},
   "outputs": [
    {
     "name": "stdout",
     "output_type": "stream",
     "text": [
      "testing RMSE score 7.121357515815444e+75\n"
     ]
    }
   ],
   "source": [
    "print('testing RMSE score',np.sqrt(mean_squared_error(np.exp(y_test),ts_pred)))"
   ]
  },
  {
   "cell_type": "markdown",
   "id": "59bef6b9",
   "metadata": {},
   "source": [
    "## RandomForest Regressor"
   ]
  },
  {
   "cell_type": "code",
   "execution_count": 190,
   "id": "1bb04693",
   "metadata": {},
   "outputs": [],
   "source": [
    "model = RandomForestRegressor(n_estimators=100)"
   ]
  },
  {
   "cell_type": "code",
   "execution_count": 191,
   "id": "736ff73a",
   "metadata": {},
   "outputs": [
    {
     "data": {
      "text/plain": [
       "RandomForestRegressor()"
      ]
     },
     "execution_count": 191,
     "metadata": {},
     "output_type": "execute_result"
    }
   ],
   "source": [
    "model.fit (x_train, y_train)"
   ]
  },
  {
   "cell_type": "code",
   "execution_count": 195,
   "id": "e550f81b",
   "metadata": {},
   "outputs": [],
   "source": [
    "y_preds = model.predict(x_test)"
   ]
  },
  {
   "cell_type": "code",
   "execution_count": 198,
   "id": "06e7fb66",
   "metadata": {},
   "outputs": [
    {
     "name": "stdout",
     "output_type": "stream",
     "text": [
      "[168.63609955  82.08189992 116.00480034 127.53660069 120.48330172\n",
      " 154.78809764 150.49579849 125.94320002 117.23679877 126.03740048\n",
      " 116.68560099 171.84860075 141.68989875 167.8891996  115.10340008\n",
      " 117.72710021 138.73060259 170.23600131 159.62390225 159.66729895\n",
      " 155.16760017 125.35640012 175.58880001 157.11130359 125.25000024\n",
      "  93.75689985  77.46510031 120.81049996 119.13119943 167.41519953\n",
      "  88.12880053 125.2359      91.27140103 117.64020045 121.16879907\n",
      " 136.43250098 115.52890139 115.37910071 147.44189926 107.1491007\n",
      " 103.92130243  87.25859791 126.49900047 117.95290036 155.19049852\n",
      " 119.62909999 108.41409981 107.94979827  93.20040064 127.04989798\n",
      "  75.19370007 113.62279914 121.6037     111.23629939 118.84689891\n",
      " 120.95299911 159.84080115 168.82830099 146.82119673  85.7591987\n",
      "  94.34710044  86.82879919  90.54660015 119.11990037 126.45860049\n",
      " 127.58580018 169.60329971 122.26439964 117.44819914  98.31270069\n",
      " 168.15800158 142.93349832 132.20290218 121.22050239 121.52869911\n",
      " 119.92910053 114.52620165 118.37490056 107.02020083 127.91480116\n",
      " 113.95239947 107.34869969 117.04610044 119.64839836  89.34490077\n",
      "  88.23009885 146.95870266 127.21569998 113.3286     109.9286986\n",
      " 108.14629907  77.45939876 169.35500212 114.05819924 121.63089883\n",
      " 127.87640192 155.01329757  91.49299957 136.8032014  159.29710466\n",
      " 125.53210038 125.08670074 130.61420169 114.57790106 119.83339993\n",
      "  92.06859976 110.05519902 168.03879855 156.86189881 114.06109927\n",
      " 106.53490104  79.14439999 113.26930063 125.8111004  107.25369935\n",
      " 119.22670114 155.87850241 159.71019934 120.60479996 134.52550287\n",
      " 101.21370012 117.6704981  119.4142004  112.90090057 102.77489926\n",
      " 159.98359835  99.17640043 147.82599953 125.60610103 169.89499914\n",
      " 125.61279857 127.38759756 127.23330116 113.77279928 113.0650007\n",
      " 123.69499899 102.04649876  89.0830998  124.94329938 101.63999918\n",
      " 107.0518996  113.78930046 117.57580045  99.27889965 121.6628007\n",
      " 162.65549886  87.42729896 106.5991994  117.16820085 127.60070136\n",
      " 124.27500072  80.79929911 120.44670066 157.81839786  87.85379982\n",
      " 110.30939928 119.02339917 172.20219902 103.04469909 105.44240059\n",
      " 122.40220043 157.63389754  87.84359836  93.36780009 112.6070998\n",
      " 176.5036994  114.12009996 119.44080038  95.0218009  125.87620063\n",
      " 166.22590129 114.66340017 116.67500125  88.28729893 149.001501\n",
      " 120.3290994   89.55600007 112.37389948 117.37580018 118.75000104\n",
      "  87.95129909  94.49920001 116.85460009 118.42290204 120.35190026\n",
      " 126.85769797 121.83560023 150.40880004 165.4374002  118.51309961\n",
      " 120.17100146 150.9989     118.51669939 172.17659853 106.04939921\n",
      " 104.9192012  149.56620132 113.71940105 124.84140112 147.66030018\n",
      " 119.61960131 115.27120046 112.53229941 113.47430249 140.4355009\n",
      " 117.66509779 102.97580057 115.8622008  103.0803017   98.90190053\n",
      " 117.50360064  90.61739987  91.4734002  153.56129907 102.80989978\n",
      " 154.80030097 114.30460166 138.91540117  90.19229838 115.43399918\n",
      " 115.19439975 122.96860042 121.77570016 165.25820113  92.88759931\n",
      " 135.19330145 121.32369927 120.7072012  104.61550029 141.50770314\n",
      " 121.50509929 116.53910047 113.16450077 126.89779787 122.84509925\n",
      " 125.78699925 121.23000036  86.81999898 132.35050069 145.53220183\n",
      "  92.72739965 157.83389903 158.81900257 126.5368989  164.89679949\n",
      " 108.75259965 109.96530103 103.7232986   94.20140082 127.73780288\n",
      " 107.23860042 160.73159906 121.6026006  132.07739946 130.60000186\n",
      " 161.23769939  90.22009863 174.7867022  128.12490013 126.8208983\n",
      "  86.41109942 124.52879878 150.39209724  89.67060027 106.8238995\n",
      " 108.96919991  84.21519939 135.83179985 154.79060225 137.95480349\n",
      "  74.1248003  152.73180116 125.98609984 126.80890032 127.41069913\n",
      " 108.64169952 156.30360055 114.51130132 116.76400147 125.46409925\n",
      " 154.1307017  121.38199991 156.33919852  92.92110051 125.4650012\n",
      " 125.67299989  87.87010072  92.34409924 126.2966995  128.48980427\n",
      " 113.33150077 117.77389753 120.91870043 127.10179746 119.61130123\n",
      " 136.52930117  93.87899893 119.93780063 113.24010083  94.31679917\n",
      " 108.89989989  87.29999924 109.07129919  89.56340014  92.27010049\n",
      " 131.57150299 162.3552014   89.30590017 119.85110108 133.32370196\n",
      " 124.08920021 128.50170184 101.85289842  89.1187984  131.98590107\n",
      " 120.2525003  108.58679987 167.7293009  115.12220058  86.56159863\n",
      " 119.05660058  90.97759984 161.80070014 116.47410053 121.69900004\n",
      " 160.30059823 120.10249951 112.52489967 108.5111987  126.64269948\n",
      "  76.28759993 103.00719983 127.62140283 121.74179919  92.59059991\n",
      " 132.33830046 118.38760107 115.6087     154.18700307 159.6419005\n",
      " 110.09769965 157.03689769 119.26620093 160.13100112 118.59260031\n",
      " 156.72570076 115.1672991  116.72480035 148.37389878 114.88720082\n",
      " 125.89079872 166.15609927 117.81350026 125.13029928 152.87750369\n",
      " 153.62440209 132.08179962 114.87300053 121.27520197 124.89040075\n",
      "  89.71420053 123.11749955 155.16500095 111.63690022 106.70999953\n",
      " 162.0993015  118.69050013 165.79950039 134.02360139 114.32909962\n",
      " 152.95339839 168.67160033 115.36559973 113.72840135 159.43129869\n",
      "  85.38389891 127.08620017 127.96770038 129.0294002  124.22200096\n",
      " 123.89830044  90.63350062 152.97260132  97.15669979 137.11819966\n",
      "  89.15349919 107.39739957 115.05150034 112.92020063 124.3423994\n",
      "  91.40909887 125.49940124 162.30769804 119.97699877 164.92620146\n",
      " 126.86069791 112.22300003 127.56759948  94.90879821  90.83929991\n",
      " 103.690199   120.59469991  83.26239949 126.20120038 160.93170479\n",
      " 117.2652011  118.42929997 120.04150001 122.83619943 120.10280133\n",
      " 121.59589981 118.36250061 106.99099995 148.11249977 126.3512985\n",
      " 115.65670095  73.57600014 127.80510104 154.33860004 122.37229972\n",
      " 125.53520078  88.88600023 103.42099877 123.66370085 120.16560012\n",
      "  73.41400073 151.00359987 121.30930042 104.58190001  86.71009807\n",
      " 115.17769898 172.3241987  119.85550039 159.0276981  113.22459949\n",
      " 121.02309983 118.74400119  95.97119985 118.97009969 125.87510014\n",
      " 118.53799961  95.97910054 153.91810153 122.11310004 147.34939939\n",
      " 159.66590288 114.0847001  122.54659933 149.90459826 127.5403999\n",
      " 165.90739992 137.79460071 120.17509947 167.1029986  108.3064992\n",
      " 121.61619877 137.68910069 106.99879889]\n"
     ]
    }
   ],
   "source": [
    "print(y_preds)"
   ]
  },
  {
   "cell_type": "code",
   "execution_count": 199,
   "id": "e2f93340",
   "metadata": {},
   "outputs": [
    {
     "name": "stdout",
     "output_type": "stream",
     "text": [
      "Mean Squared Error = 5.671753252500089\n",
      "Mean Absolute Error = 1.3291923574235747\n",
      "R-Squared error = 0.9892467093717683\n"
     ]
    }
   ],
   "source": [
    "MSE = metrics.mean_squared_error(y_test, y_preds)\n",
    "MAE = metrics.mean_absolute_error(y_test, y_preds)\n",
    "r_2 = metrics.r2_score(y_test, y_preds)\n",
    "print (f'Mean Squared Error = {MSE}')\n",
    "print (f'Mean Absolute Error = {MAE}')\n",
    "print (f'R-Squared error = {r_2}')"
   ]
  },
  {
   "cell_type": "code",
   "execution_count": 197,
   "id": "59ad1f3f",
   "metadata": {},
   "outputs": [
    {
     "name": "stdout",
     "output_type": "stream",
     "text": [
      "0.998444862978584\n",
      "0.9892467093717683\n"
     ]
    }
   ],
   "source": [
    "accuracy_train = model.score(x_train, y_train)\n",
    "accuracy_test = model.score(x_test, y_test)\n",
    "print(accuracy_train)\n",
    "print(accuracy_test)"
   ]
  },
  {
   "cell_type": "code",
   "execution_count": null,
   "id": "115d2b56",
   "metadata": {},
   "outputs": [],
   "source": []
  },
  {
   "cell_type": "code",
   "execution_count": null,
   "id": "77e1276a",
   "metadata": {},
   "outputs": [],
   "source": []
  },
  {
   "cell_type": "code",
   "execution_count": null,
   "id": "e8a99f54",
   "metadata": {},
   "outputs": [],
   "source": []
  }
 ],
 "metadata": {
  "kernelspec": {
   "display_name": "Python 3 (ipykernel)",
   "language": "python",
   "name": "python3"
  },
  "language_info": {
   "codemirror_mode": {
    "name": "ipython",
    "version": 3
   },
   "file_extension": ".py",
   "mimetype": "text/x-python",
   "name": "python",
   "nbconvert_exporter": "python",
   "pygments_lexer": "ipython3",
   "version": "3.9.12"
  }
 },
 "nbformat": 4,
 "nbformat_minor": 5
}
